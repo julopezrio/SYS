{
  "nbformat": 4,
  "nbformat_minor": 0,
  "metadata": {
    "colab": {
      "private_outputs": true,
      "provenance": [],
      "include_colab_link": true
    },
    "kernelspec": {
      "name": "python3",
      "display_name": "Python 3"
    },
    "language_info": {
      "name": "python"
    }
  },
  "cells": [
    {
      "cell_type": "markdown",
      "metadata": {
        "id": "view-in-github",
        "colab_type": "text"
      },
      "source": [
        "<a href=\"https://colab.research.google.com/github/julopezrio/SYS/blob/main/Parcial1_SyS_2024_2.ipynb\" target=\"_parent\"><img src=\"https://colab.research.google.com/assets/colab-badge.svg\" alt=\"Open In Colab\"/></a>"
      ]
    },
    {
      "cell_type": "markdown",
      "source": [
        "# Parcial 1: Señales y Sistemas 2024-II\n",
        "\n",
        " ## Profesor: Andrés Marino Álvarez Meza, Ph.D.\n",
        "\n",
        "\n",
        "## Departamento de Ingeniería Eléctrica, Electrónica, y Computación\n",
        "## Universidad Nacional de Colombia - sede Manizales"
      ],
      "metadata": {
        "id": "1fWMHXCqNtQw"
      }
    },
    {
      "cell_type": "markdown",
      "source": [
        "# Instrucciones\n",
        "\n",
        "-- Para recibir el crédito total, sus respuestas deben estar justificadas de manera clara, detallada y concreta, mostrando los procedimientos y razonamientos paso a paso.\n",
        "\n",
        "-- Está permitido el uso de herramientas de inteligencia artificial (IA). Si las utiliza, por favor declare explícitamente cómo fueron empleadas en la resolución de cada pregunta. Incluya los prompts (consultas) y las iteraciones realizadas con las IA durante el desarrollo del parcial.\n",
        "\n",
        "-- La entrega del parcial debe realizarse antes de las 23:59 del 5 de diciembre de 2024 al correo electrónico amalvarezme@unal.edu.co mediante un enlace de GitHub.\n",
        "\n",
        "-- Los códigos deben estar debidamente comentados en las celdas correspondientes y explicados en celdas de texto (markdown). Los códigos que no incluyan comentarios ni discusiones no serán considerados en la evaluación final."
      ],
      "metadata": {
        "id": "15xl7tLEP6YA"
      }
    },
    {
      "cell_type": "markdown",
      "source": [
        "# Pregunta 1 (valor 2.5 puntos)\n",
        "\n",
        "Cuál es la señal obtenida en tiempo discreto al utilizar un conversor análogo digital de 5 bits con frecuencia de muestreo de $5kHz$, entrada análoga de -3.3 a 3.3 [v], aplicado a la señal continua $x(t) = 0.3 \\cos(1000\\pi t-\\pi/4) +\n",
        "0.6 \\sin(2000\\pi t) + 0.1 \\cos(11000\\pi t-\\pi)$?. Realizar la simulación del proceso de digitalización incluyendo al menos 3 ciclos de la señal $x(t)$.\n",
        "\n",
        "En caso de que la digitalización no sea apropiada, diseñe e implemente un conversor adecuado para la señal estudiada. El convesor debe permitir configurar la cantidad de bits, rango de la entrada análoga y la frecuencia de muestreo, indicándole al usuario si dicha frecuencia es apropiada o no, y graficar la señal continua, discreta y digital."
      ],
      "metadata": {
        "id": "jmI0zzVMRLNx"
      }
    },
    {
      "cell_type": "code",
      "source": [
        "import numpy as np\n",
        "import matplotlib.pyplot as plt\n",
        "import joblib\n",
        "from scipy.spatial.distance import cdist\n",
        "from scipy.signal import firwin, freqz, lfilter, filtfilt\n",
        "import matplotlib\n",
        "import scipy.signal as signal\n",
        "%matplotlib inline\n",
        "from ipywidgets import interact #crear graficos interactivos\n",
        "from scipy import signal #crear señales prototipo en tiempo discreto\n",
        "\n"
      ],
      "metadata": {
        "id": "wv4CpF-krSne"
      },
      "execution_count": null,
      "outputs": []
    },
    {
      "cell_type": "code",
      "source": [
        "#describir señal\n",
        "\n",
        "n=100 # numero de muestras\n",
        "\n",
        "#parametros funcion x1\n",
        "w1=1000*np.pi\n",
        "A1=0.3\n",
        "f1=w1/(2*np.pi)\n",
        "T1=1/f1\n",
        "phi1=np.pi/4\n",
        "\n",
        "#parametros funcion x2\n",
        "w2=2000*np.pi\n",
        "A2=0.6\n",
        "f2=w2/(2*np.pi)\n",
        "T2=1/f2\n",
        "\n",
        "#parametros funcion x3\n",
        "w3=11000*np.pi\n",
        "A3=0.1\n",
        "f3=w3/(2*np.pi)\n",
        "T3=1/f3\n",
        "phi3=np.pi\n",
        "\n",
        "Fs=3*max(f1,f2,f3) # frecuecia de muestre que tiene que cumplir el teorema de nyquist\n",
        "ts=1/Fs\n",
        "ti=-5*min(T1,T2,T3) # tiempo inicial\n",
        "tf=5*max(T1,T2,T3) # tiempo final\n",
        "\n",
        "t = np.arange(ti,tf,ts)\n",
        "\n",
        "\n",
        "#tb=np.linspace(ti,tf,k) # vector de tiempo\n",
        "\n",
        "x1=A1*np.cos(w1*t-phi1)\n",
        "x2=A2*np.sin(w2*t)\n",
        "x3=A3*np.cos(w3*t-phi3)\n",
        "x=x1+x2+x3\n",
        "\n",
        "\n",
        "plt.plot(t,x)\n",
        "plt.xlabel('tiempo [s]')\n",
        "plt.ylabel('$A\\sin[\\omega t_k]$')\n",
        "plt.show()"
      ],
      "metadata": {
        "id": "_brg-3U4rG4p"
      },
      "execution_count": null,
      "outputs": []
    },
    {
      "cell_type": "code",
      "source": [
        "def my_ceropen(x,ymin = -5, ymax = 5): #crea un arange de puntos en base a los valores maximos y minimos de y\n",
        "  xmax = max(x) # x.max()\n",
        "  xmin = min(x) # x.min()\n",
        "  m = (ymax - ymin)/(xmax - xmin)\n",
        "  c = ymin - m*xmin\n",
        "  yv = m*x + c\n",
        "  return yv\n",
        "\n",
        "ycs = my_ceropen(x,ymin=-3.3,ymax=3.3) #uso de la funcion\n",
        "\n",
        "#parametros de cuantizacion\n",
        "nbits = 5 # cantidad de bits\n",
        "rmin = -3.3\n",
        "rmax = 3.3\n",
        "ve = np.linspace(rmin,rmax,2**nbits)#crea los valores entre los intervalos defindos, y separandolos por espacios iguales que varian en base a la cantidad de bits\n",
        "\n",
        "dn = cdist(ycs.reshape(-1,1),ve.reshape(-1,1)) #distancia entre todos los pares de puntos de dos arrays\n",
        "dn.shape\n",
        "\n",
        "ind=np.argmin(dn,axis=1)#argumento minimo\n",
        "ind\n",
        "print(ycs[1],ind[1],ve[ind[1]])\n",
        "\n",
        "def my_cuantizador(yn, vq) : #yn punto a #cuantizar, vq vector de estados\n",
        "\n",
        "  Ne = vq.shape[0] #tamaño vector de estados\n",
        "  dn = cdist(yn.reshape(-1,1),vq.reshape(-1,1))#distancia yn a vector estados, reshape(-1,1) asegura vectores columna para poder utilizar cdist\n",
        "  ind = np.argmin(dn) #posición distancia min\n",
        "  return vq[ind]\n",
        "\n",
        "for i in range(ycs.shape[0]):\n",
        "   if i==0: #primera muestra\n",
        "     yq = my_cuantizador(ycs[i],ve)\n",
        "   else:\n",
        "     yq = np.append(yq,my_cuantizador(ycs[i],ve))\n",
        "\n",
        "plt.plot(t,ycs,c='y',label='ycs')#cs continua\n",
        "plt.legend()\n",
        "plt.grid()\n",
        "plt.xlabel('t')\n",
        "plt.ylabel('Amplitud')\n",
        "plt.show()\n",
        "\n",
        "plt.stem(t,ycs,label='ycs_dis')#cs discreta\n",
        "plt.legend()\n",
        "plt.grid()\n",
        "plt.xlabel('t')\n",
        "plt.ylabel('Amplitud')\n",
        "plt.show()\n",
        "\n",
        "#estados de cuantización\n",
        "\n",
        "for v in ve:\n",
        "  plt.plot(t,v*np.ones(len(t)),c='r')\n",
        "\n",
        "# graficar señal Digital (discreta + cuantizada)\n",
        "\n",
        "plt.plot(t,yq,c='r',label='ydig', linewidth=1)\n",
        "\n",
        "plt.legend()\n",
        "plt.grid()\n",
        "plt.xlabel('t')\n",
        "plt.ylabel('Amplitud')\n",
        "plt.show()"
      ],
      "metadata": {
        "id": "s-5DYZ8Tsyxl"
      },
      "execution_count": null,
      "outputs": []
    },
    {
      "cell_type": "markdown",
      "source": [
        "# Pregunta 2 (valor 2.5 puntos)\n",
        "\n",
        "Se dispone de un sistema modelado como una \"caja negra\" (ver celdas de código). Su tarea es analizar y comprobar mediante simulaciones si el sistema cumple con las propiedades de linealidad e invariancia en el tiempo. En caso de que el sistema sea lineal e invariante con el tiempo, determine su respuesta al impulso y utilice esta respuesta para calcular la salida del sistema ante la siguiente señal:\n",
        "\n",
        "$x[n] = \\sin[100 \\pi n ] + \\sin[600 \\pi n]$"
      ],
      "metadata": {
        "id": "5Za-WbLpSele"
      }
    },
    {
      "cell_type": "code",
      "source": [
        "# cargar sistema\n",
        "FILEID = \"1J9rhh0wWHZSBd8XmWGt1ZpCsMDuoUFmm\"\n",
        "!wget --load-cookies /tmp/cookies.txt \"https://docs.google.com/uc?export=download&confirm=$(wget --quiet --save-cookies /tmp/cookies.txt --keep-session-cookies --no-check-certificate 'https://docs.google.com/uc?export=download&id='$FILEID -O- | sed -rn 's/.*confirm=([0-9A-Za-z_]+).*/\\1\\n/p')&id=\"$FILEID -O P1_model.zip && rm -rf /tmp/cookies.txt\n",
        "!unzip -o P1_model.zip\n",
        "!dir"
      ],
      "metadata": {
        "id": "6yJMMFK6zo5K"
      },
      "execution_count": null,
      "outputs": []
    },
    {
      "cell_type": "code",
      "source": [
        "from P1_model import system_\n",
        "\n",
        "#sistema pregunta 2\n",
        "my_system = system_.My_System()\n",
        "my_system.create_()\n",
        "fs = my_system.fs #frecuencia de muestreo\n",
        "t = np.arange(-0.01, 5, 1/fs)  # Tiempo\n",
        "signal_u = np.heaviside(t,1) # función heaviside #SEÑAL DE ENTRADA\n",
        "#signal_u = np.heaviside(t,10) # función heaviside #SEÑAL DE ENTRADA\n",
        "y_u = my_system.predict(signal_u)\n",
        "\n",
        "# Visualización de las señales\n",
        "fig, axs = plt.subplots(2,1)\n",
        "axs[0].stem(t, signal_u, label='Señal de entrada')\n",
        "axs[0].set_xlabel('Tiempo (s)')\n",
        "axs[0].set_ylabel('Amplitud')\n",
        "axs[0].legend()\n",
        "axs[0].grid()\n",
        "axs[1].stem(t,y_u, label='Señal salida')\n",
        "axs[1].set_xlabel('Tiempo (s)')\n",
        "axs[1].set_ylabel('Amplitud')\n",
        "axs[1].legend()\n",
        "axs[1].grid()\n",
        "plt.tight_layout()\n",
        "plt.show()"
      ],
      "metadata": {
        "id": "nUX7Vr1fTUYW"
      },
      "execution_count": null,
      "outputs": []
    },
    {
      "cell_type": "markdown",
      "source": [
        " Análisis de Linealidad\n",
        "Para verificar la linealidad, necesitas comprobar si el sistema satisface:\n",
        "\n",
        "$$\n",
        "S({ax_1[n]}+bx_2[n])=aS(x_1)+bS(x_2)\n",
        "$$\n",
        "Para este caso debemos confirmar que si se aumenta nuestra señal de entrada, la señal de salida aumenta por el mismo factor"
      ],
      "metadata": {
        "id": "00S65-nqwmvU"
      }
    },
    {
      "cell_type": "code",
      "source": [
        "#sistema pregunta 2\n",
        "my_system = system_.My_System()\n",
        "my_system.create_()\n",
        "fs = my_system.fs #frecuencia de muestreo\n",
        "t = np.arange(-0.01, 0.02, 1/fs)  # Tiempo\n",
        "signal_u = np.heaviside(t,1) # función heaviside-SEÑAL DE ENTRADA\n",
        "y_u = my_system.predict(signal_u)# señal de salida\n",
        "\n",
        "# Escalar la entrada por un factor a, el factor es arbitrario, es simplemente para ques cumpla homogeneidad\n",
        "a = 2\n",
        "u_scaled = a * signal_u #señal original por el factor el factor a escalar\n",
        "\n",
        "# Salida del sistema para a*u(t)\n",
        "y2 = my_system.predict(u_scaled)\n",
        "\n",
        "# Escalar la salida original\n",
        "y1_scaled = a * y_u\n",
        "\n",
        "# Comparar gráficamente\n",
        "plt.figure(figsize=(10, 6))\n",
        "plt.stem(t, y2, label=\"Salida del sistema para a*u(t) (y2)\")\n",
        "plt.legend()\n",
        "plt.title(\"Verificación de Linealidad: Homogeneidad\")\n",
        "plt.xlabel(\"Tiempo [s]\")\n",
        "plt.ylabel(\"Amplitud\")\n",
        "plt.grid()\n",
        "plt.show()\n",
        "plt.figure(figsize=(10, 6))\n",
        "plt.stem(t, y1_scaled, label=\"a * Salida original (y1_scaled)\")\n",
        "plt.legend()\n",
        "plt.title(\"Verificación de Linealidad: Homogeneidad\")\n",
        "plt.xlabel(\"Tiempo [s]\")\n",
        "plt.ylabel(\"Amplitud\")\n",
        "plt.grid()\n",
        "plt.show()\n"
      ],
      "metadata": {
        "id": "fbnfpcdNwaNJ"
      },
      "execution_count": null,
      "outputs": []
    },
    {
      "cell_type": "markdown",
      "source": [
        "Como se puede apreciar la amplitud tanto en la señal de entrada como en la de salida es igual por lo tanto el sistema es lineal, a continuacion se verifica si es invariante en el tiempo con un desplazamiento"
      ],
      "metadata": {
        "id": "Im9cHFaqwpSk"
      }
    },
    {
      "cell_type": "code",
      "source": [
        "k=0.005 #valor del desplazamiento\n",
        "# x[n - k]\n",
        "x=np.heaviside(t-k,1) #señal de entrada desplazada\n",
        "#salida del sistema para x[n - k]\n",
        "y=my_system.predict(x) #señal de salida desplazada\n",
        "\n",
        "\n",
        "# Comparar gráficamente\n",
        "plt.figure(figsize=(12, 6))\n",
        "\n",
        "# Gráfica de la salida del sistema para la entrada desplazada\n",
        "plt.subplot(2, 1, 1)\n",
        "plt.plot(t, x, label=\"entrada del sistema para x[n-k]\")\n",
        "plt.grid()\n",
        "plt.legend()\n",
        "plt.title(\"entrada del sistema para x[n-k]\")\n",
        "\n",
        "# Gráfica de la salida original desplazada manualmente\n",
        "plt.subplot(2, 1, 2)\n",
        "plt.plot(t, y, label=\"Salida desplazada y[n-k]\", linestyle=\"--\")\n",
        "plt.legend()\n",
        "plt.title(\"Salida original desplazada manualmente (y[n-k])\")\n",
        "\n",
        "plt.xlabel(\"Tiempo [s]\")\n",
        "plt.grid()\n",
        "plt.tight_layout()\n",
        "plt.show()\n"
      ],
      "metadata": {
        "id": "F9d218BfTyDB"
      },
      "execution_count": null,
      "outputs": []
    },
    {
      "cell_type": "markdown",
      "source": [
        "Como se nota en las graficas su escalorn incia en el mismo punto, por lo que la grafica es invariante en el tiempo, dado que lo es, el siguiente punto expresa hacer una convolucion de la salida de la siguiente señal\n",
        "$x[n] = \\sin[100 \\pi n ] + \\sin[600 \\pi n]$"
      ],
      "metadata": {
        "id": "SHl5viiK2waV"
      }
    },
    {
      "cell_type": "code",
      "source": [
        "g=np.diff(y_u) # funcion del pulso h[n]\n",
        "\n",
        "#igualar las dimensiones de los array de g y t, para graficarlo\n",
        "min_len = min(len(t), len(g))\n",
        "t =t[:min_len]\n",
        "x1=x1[:min_len]\n",
        "\n",
        "#graficar en continua y discreta la respuesta al impulso\n",
        "plt.plot(t,g,label='h[n]')\n",
        "plt.legend()\n",
        "plt.grid()\n",
        "plt.xlabel('t')\n",
        "plt.show()\n",
        "plt.stem(t,g,label='h[n]')\n",
        "plt.legend()\n",
        "plt.grid()\n",
        "plt.xlabel('t')\n",
        "plt.show()"
      ],
      "metadata": {
        "id": "K5WHwaFmp68X"
      },
      "execution_count": null,
      "outputs": []
    },
    {
      "cell_type": "markdown",
      "source": [
        "En las grafica anteriores se puede ver la respuesta al impulso de la señal de entrada, a continuacion se describen el vector de tiempo, el numero de muestras y la señal a calcular su salida en respuesta del impulso."
      ],
      "metadata": {
        "id": "2VruDpsdAObM"
      }
    },
    {
      "cell_type": "code",
      "source": [
        "tn=np.arange(-0.01,0.02,1/fs) #vector de tiempo\n",
        "n=np.round(tn*fs) #numero de muestras en base a t=nTs\n",
        "\n",
        "xn=np.sin( 100*np.pi*n)+np.sin(600*np.pi*n)#funcion x[n]\n",
        "\n",
        "#grafica funcion x[n]\n",
        "plt.figure(figsize=(12, 12))\n",
        "plt.subplot(2, 1, 1)\n",
        "plt.plot(n,xn,c='r',label='x[n]')\n",
        "plt.stem(n,xn,label='x[n]')\n",
        "plt.legend()\n",
        "plt.grid()\n",
        "plt.xlabel('t')\n",
        "plt.show()\n",
        "\n",
        "\n",
        "con=np.convolve(xn,g)\n",
        "\n",
        "#redimensionar el array de la convolucion con el del numero de muestras\n",
        "min_len = min(len(n), len(con))\n",
        "n =n[:min_len]\n",
        "con=con[:min_len]\n",
        "\n",
        "#grafica de la convol\n",
        "plt.figure(figsize=(12, 6))\n",
        "plt.subplot(2, 1, 1)\n",
        "plt.plot(n,con,c='g',label='h[n]*x[n]')\n",
        "plt.stem(n,con,label='h[n]*x[n]')\n",
        "plt.legend()\n",
        "plt.grid()\n",
        "plt.xlabel('t')\n",
        "plt.show()\n",
        "\n"
      ],
      "metadata": {
        "id": "Tl6nK6aiQVF4"
      },
      "execution_count": null,
      "outputs": []
    },
    {
      "cell_type": "markdown",
      "source": [
        "en las graficas anteriores observamos el comportamiento de un tramo de la señal x[n] y luego la señal covolusionada con h[n]."
      ],
      "metadata": {
        "id": "4Ixz7x3HDBvm"
      }
    }
  ]
}
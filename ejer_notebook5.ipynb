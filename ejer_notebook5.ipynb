{
  "nbformat": 4,
  "nbformat_minor": 0,
  "metadata": {
    "colab": {
      "provenance": [],
      "authorship_tag": "ABX9TyNIvCBizfZsOQNTPYrD4VA0",
      "include_colab_link": true
    },
    "kernelspec": {
      "name": "python3",
      "display_name": "Python 3"
    },
    "language_info": {
      "name": "python"
    }
  },
  "cells": [
    {
      "cell_type": "markdown",
      "metadata": {
        "id": "view-in-github",
        "colab_type": "text"
      },
      "source": [
        "<a href=\"https://colab.research.google.com/github/julopezrio/SYS/blob/main/ejer_notebook5.ipynb\" target=\"_parent\"><img src=\"https://colab.research.google.com/assets/colab-badge.svg\" alt=\"Open In Colab\"/></a>"
      ]
    },
    {
      "cell_type": "markdown",
      "source": [
        "# Ejercicios notebook 5"
      ],
      "metadata": {
        "id": "e7CM0W4hHoZJ"
      }
    },
    {
      "cell_type": "markdown",
      "source": [
        "##Ejercicio 1\n",
        "Graficar la potencia media de una impedancia  $R+jwL$ , cuándo es excitada por una fuente sinusoidal.\n",
        "\n",
        "Graficar la potencia media de una impedancia  $R−j\\frac{1}{wC}$ , cuándo es excitada por una fuente sinusoidal.\n",
        "\n",
        "Ver cuaderno https://github.com/amalvarezme/SenalesSistemas/blob/master/1_IntroduccionSyS/6_Potencia_Circutios.ipynb para repaso conceptos básicos potencia en circuitos."
      ],
      "metadata": {
        "id": "gd9pIj2SHycl"
      }
    },
    {
      "cell_type": "code",
      "execution_count": null,
      "metadata": {
        "id": "XktFBxJqHNu3"
      },
      "outputs": [],
      "source": []
    },
    {
      "cell_type": "markdown",
      "source": [
        "##Ejercicio 2\n",
        "Discuta el concepto de valor RMS de una señal a partir de su potencia media. Ver conceptos RMS."
      ],
      "metadata": {
        "id": "Sf_umJgpIMYk"
      }
    },
    {
      "cell_type": "markdown",
      "source": [
        "##Ejercicio 3\n",
        "Finalmente, clasifique la señal  $x(t)=e^{−αt}$ t  como de energía o de potencia. Compruebe el resultado solucionando la integral por partes.\n",
        "\n",
        "Ayuda: declare la función en la variable x en el siguiente bloque de código como se muestra a continuación."
      ],
      "metadata": {
        "id": "L0Bb8lzWIVQX"
      }
    },
    {
      "cell_type": "code",
      "source": [
        "x =   #<--- Tu linea de código va aquí\n",
        "E = integrate(x**2, (t, -oo, oo))\n",
        "print('La energía total de la señal es:')\n",
        "E\n",
        "P = limit(integrate(x**2, (t, -T/2, T/2)) / T, T, oo)\n",
        "print('\\nLa potencia media de la señal es:')\n",
        "P"
      ],
      "metadata": {
        "id": "POdS_wdBIhU0"
      },
      "execution_count": null,
      "outputs": []
    },
    {
      "cell_type": "markdown",
      "source": [
        "##Ejercicio 4\n",
        "\n",
        "La distancia entre dos señales $x_1(t)$ y $x_2(t)$ se puede dar en términos de la potencia media de la diferencia entre ellas; es decir, la potencia media del error.\n",
        "\n",
        "$$\n",
        "d(x_1, x_2) = \\bar{P}_{x_1-x_2}=\\lim_{T \\to \\infty} \\frac{1}{T} \\int_T |x_1(t)-x_2(t)|^{2}~dt\n",
        "$$\n",
        "\n",
        "Sea $x_1(t)$ y $x_2(t$) dos señales periódicas de periodo fundamental $T_0$ como se muestra a continuación.\n",
        "\n",
        "$$\n",
        "x_1(t) = \\cos(w_0t), ~~~ w_0 = \\frac{2\\pi}{T_0}\\\\\n",
        "x_2(t)= \\left\\{ \\begin{array}{lcc}\n",
        "             ~~~1 &   si  & 0 \\leq t < \\frac{T}{4} \\\\\n",
        "             \\\\ -1 &  si &  \\frac{T}{4} \\leq t < \\frac{3T}{4} \\\\\n",
        "             \\\\ ~~~1 &  si  & \\frac{3T}{4} \\leq t < T\n",
        "             \\end{array}\n",
        "   \\right.\n",
        "$$\n",
        "\n",
        "Determine la distancia entre las dos señales."
      ],
      "metadata": {
        "id": "yGx51axwIlJg"
      }
    },
    {
      "cell_type": "markdown",
      "source": [
        "##Ejercicio 5\n",
        "Demostrar que la norma al cuadrado de una señal equivale a su energía."
      ],
      "metadata": {
        "id": "4mXp4jOYIrJw"
      }
    }
  ]
}
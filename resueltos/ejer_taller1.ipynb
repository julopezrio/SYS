{
  "nbformat": 4,
  "nbformat_minor": 0,
  "metadata": {
    "colab": {
      "provenance": [],
      "authorship_tag": "ABX9TyNMRsatG3pFmJVS+QLAMaVA",
      "include_colab_link": true
    },
    "kernelspec": {
      "name": "python3",
      "display_name": "Python 3"
    },
    "language_info": {
      "name": "python"
    }
  },
  "cells": [
    {
      "cell_type": "markdown",
      "metadata": {
        "id": "view-in-github",
        "colab_type": "text"
      },
      "source": [
        "<a href=\"https://colab.research.google.com/github/julopezrio/SYS/blob/main/ejer_taller1.ipynb\" target=\"_parent\"><img src=\"https://colab.research.google.com/assets/colab-badge.svg\" alt=\"Open In Colab\"/></a>"
      ]
    },
    {
      "cell_type": "markdown",
      "source": [
        "Ejercicios talleres"
      ],
      "metadata": {
        "id": "tUUlCz7FmE2o"
      }
    },
    {
      "cell_type": "markdown",
      "source": [
        "Evaluar la expresion:\n",
        " $∫_{-∞}^∞{t^4e^{-cos(t)}cos(-2t)𝛿(2t-5π)dt}$ Nota: Consul\n",
        "tar las propiedas de selectividad y escala en el tiempo\n",
        " de la funci´ on impulso unitario. Comprobar el resultado\n",
        " en simulaci´ on con la librer´ ıa SymPy."
      ],
      "metadata": {
        "id": "rwZtFLg5mvMi"
      }
    },
    {
      "cell_type": "code",
      "execution_count": 17,
      "metadata": {
        "colab": {
          "base_uri": "https://localhost:8080/",
          "height": 39
        },
        "id": "eilcbnpnlknY",
        "outputId": "f98861f4-ecc2-413f-bbd4-3a7b9cdd6daa"
      },
      "outputs": [
        {
          "output_type": "execute_result",
          "data": {
            "text/plain": [
              "exp(t)"
            ],
            "text/latex": "$\\displaystyle e^{t}$"
          },
          "metadata": {},
          "execution_count": 17
        }
      ],
      "source": [
        "%matplotlib inline\n",
        "import numpy as np\n",
        "import matplotlib.pyplot as plt\n",
        "import sympy as sym\n",
        "\n",
        "t, sigma, omega = sym.symbols('t sigma omega', real=True)#definir variables simbólicas\n",
        "s=1 #sobre carga operador para definir parte imaginaria\n",
        "x = sym.exp(s*t)#función exponencial simbólica desde sympy\n",
        "x"
      ]
    },
    {
      "cell_type": "code",
      "source": [
        "delta = sym.DiracDelta(t)#función dirac en sympy\n",
        "delta"
      ],
      "metadata": {
        "colab": {
          "base_uri": "https://localhost:8080/",
          "height": 39
        },
        "id": "wo50ujHLqQiZ",
        "outputId": "6f6f46ae-f683-4c4b-8109-7564c8b5bafe"
      },
      "execution_count": 6,
      "outputs": [
        {
          "output_type": "execute_result",
          "data": {
            "text/plain": [
              "DiracDelta(t)"
            ],
            "text/latex": "$\\displaystyle \\delta\\left(t\\right)$"
          },
          "metadata": {},
          "execution_count": 6
        }
      ]
    },
    {
      "cell_type": "code",
      "source": [
        "y=sym.cos(t)*(-1)\n",
        "b=sym.exp(y)\n",
        "b"
      ],
      "metadata": {
        "colab": {
          "base_uri": "https://localhost:8080/",
          "height": 40
        },
        "id": "l6MFhhXqtMjo",
        "outputId": "166de00e-c7c3-46c9-ac48-2a8a33d212a1"
      },
      "execution_count": 25,
      "outputs": [
        {
          "output_type": "execute_result",
          "data": {
            "text/plain": [
              "exp(-cos(t))"
            ],
            "text/latex": "$\\displaystyle e^{- \\cos{\\left(t \\right)}}$"
          },
          "metadata": {},
          "execution_count": 25
        }
      ]
    },
    {
      "cell_type": "code",
      "source": [
        "g=(t**4)*b*sym.cos(-2*t)\n",
        "print(g)\n",
        "#g = sym.Function('g')(t) # g(t)\n",
        "delta_T = sym.DiracDelta(t-(5*np.pi)/2) # delta(t-tau)\n",
        "delta_T\n",
        "sym.integrate(delta_T*g, (t, -sym.oo, sym.oo))"
      ],
      "metadata": {
        "colab": {
          "base_uri": "https://localhost:8080/",
          "height": 55
        },
        "id": "_cotQdWEpEz9",
        "outputId": "8a7b8a3f-d87f-4ae6-8a83-b878b8aece4b"
      },
      "execution_count": 29,
      "outputs": [
        {
          "output_type": "stream",
          "name": "stdout",
          "text": [
            "t**4*exp(-cos(t))*cos(2*t)\n"
          ]
        },
        {
          "output_type": "execute_result",
          "data": {
            "text/plain": [
              "-3805.04261851570"
            ],
            "text/latex": "$\\displaystyle -3805.0426185157$"
          },
          "metadata": {},
          "execution_count": 29
        }
      ]
    },
    {
      "cell_type": "markdown",
      "source": [
        "en la calculadora me da -3858.53 o_o"
      ],
      "metadata": {
        "id": "G-EMrDnYuH1-"
      }
    }
  ]
}
